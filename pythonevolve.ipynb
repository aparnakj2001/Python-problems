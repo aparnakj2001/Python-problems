{
  "cells": [
    {
      "cell_type": "code",
      "execution_count": null,
      "metadata": {
        "colab": {
          "base_uri": "https://localhost:8080/"
        },
        "id": "jnFlcmb8QJP7",
        "outputId": "f0f405d9-5720-4292-9bf5-090a88b260df"
      },
      "outputs": [
        {
          "name": "stdout",
          "output_type": "stream",
          "text": [
            "Enter the length of side 1: 5\n",
            "Enter the length of side 2: 7\n",
            "Enter the length of side 3: 9\n",
            "The perimeter of the triangle is: 21.0\n"
          ]
        }
      ],
      "source": [
        "# Get input from the user\n",
        "side1 = float(input(\"Enter the length of side 1: \"))\n",
        "side2 = float(input(\"Enter the length of side 2: \"))\n",
        "side3 = float(input(\"Enter the length of side 3: \"))\n",
        "\n",
        "# Calculate the perimeter\n",
        "perimeter = side1 + side2 + side3\n",
        "\n",
        "# Print the result\n",
        "print(f\"The perimeter of the triangle is: {perimeter}\")\n"
      ]
    },
    {
      "cell_type": "code",
      "execution_count": null,
      "metadata": {
        "colab": {
          "base_uri": "https://localhost:8080/"
        },
        "id": "UF9-ZXvgQSX8",
        "outputId": "5add2524-2e14-4b75-e788-6649ae53ad58"
      },
      "outputs": [
        {
          "name": "stdout",
          "output_type": "stream",
          "text": [
            "Enter the base of the triangle: 5\n",
            "Enter the height of the triangle: 2\n",
            "The area of the triangle is: 5.0\n"
          ]
        }
      ],
      "source": [
        "# Get input from the user\n",
        "base = float(input(\"Enter the base of the triangle: \"))\n",
        "height = float(input(\"Enter the height of the triangle: \"))\n",
        "\n",
        "# Calculate the area\n",
        "area = 0.5 * base * height\n",
        "\n",
        "# Print the result\n",
        "print(f\"The area of the triangle is: {area}\")\n"
      ]
    },
    {
      "cell_type": "code",
      "execution_count": null,
      "metadata": {
        "colab": {
          "base_uri": "https://localhost:8080/"
        },
        "id": "1aVH-anGQpaW",
        "outputId": "f041811d-0eaf-4114-8554-9dc0b6f84bc9"
      },
      "outputs": [
        {
          "name": "stdout",
          "output_type": "stream",
          "text": [
            "Enter the first number: s\n",
            "Enter the second number: f\n",
            "After swapping: First number = f, Second number = s\n"
          ]
        }
      ],
      "source": [
        "# Get input from the user\n",
        "x = input(\"Enter the first number: \")\n",
        "y = input(\"Enter the second number: \")\n",
        "\n",
        "# Swapping the values\n",
        "x, y = y, x\n",
        "\n",
        "# Print the swapped values\n",
        "print(f\"After swapping: First number = {x}, Second number = {y}\")\n"
      ]
    },
    {
      "cell_type": "code",
      "execution_count": null,
      "metadata": {
        "colab": {
          "base_uri": "https://localhost:8080/"
        },
        "id": "dw8K9NjVQyfh",
        "outputId": "74238fdf-abff-498d-9eb3-4d93d12587cf"
      },
      "outputs": [
        {
          "name": "stdout",
          "output_type": "stream",
          "text": [
            "Enter the principal amount: 1000\n",
            "Enter the rate of interest: 12\n",
            "Enter the time (in years): 2\n",
            "The simple interest is: 240.0\n"
          ]
        }
      ],
      "source": [
        "# Get input from the user\n",
        "principal = float(input(\"Enter the principal amount: \"))\n",
        "rate = float(input(\"Enter the rate of interest: \"))\n",
        "time = float(input(\"Enter the time (in years): \"))\n",
        "\n",
        "# Calculate simple interest\n",
        "simpleinterest = (principal * rate * time) / 100\n",
        "\n",
        "# Print the result\n",
        "print(f\"The simple interest is: {simpleinterest}\")\n"
      ]
    },
    {
      "cell_type": "code",
      "execution_count": null,
      "metadata": {
        "colab": {
          "base_uri": "https://localhost:8080/"
        },
        "id": "tIxERXPqQ_PL",
        "outputId": "73b305e9-54f5-4bff-f43e-316c07310691"
      },
      "outputs": [
        {
          "name": "stdout",
          "output_type": "stream",
          "text": [
            "Enter a number: 5\n",
            "5 is odd.\n"
          ]
        }
      ],
      "source": [
        "# Get input from the user\n",
        "number = int(input(\"Enter a number: \"))\n",
        "\n",
        "# Check if the number is even or odd\n",
        "if number % 2 == 0:\n",
        "    print(f\"{number} is even.\")\n",
        "else:\n",
        "    print(f\"{number} is odd.\")\n"
      ]
    },
    {
      "cell_type": "code",
      "execution_count": null,
      "metadata": {
        "colab": {
          "base_uri": "https://localhost:8080/"
        },
        "id": "cHCxTnvtS-ca",
        "outputId": "0e514c6a-3432-4e8f-c79f-7e509d57fad4"
      },
      "outputs": [
        {
          "name": "stdout",
          "output_type": "stream",
          "text": [
            "Enter a number: 5\n",
            "The number is positive.\n"
          ]
        }
      ],
      "source": [
        "# Get input from the user\n",
        "number = float(input(\"Enter a number: \"))\n",
        "\n",
        "# Check if the number is positive\n",
        "if number > 0:\n",
        "    print(\"The number is positive.\")\n",
        "# Check if the number is negative\n",
        "elif number < 0:\n",
        "    print(\"The number is negative.\")\n",
        "# If the number is neither positive nor negative, it must be zero\n",
        "else:\n",
        "    print(\"The number is zero.\")\n"
      ]
    },
    {
      "cell_type": "code",
      "execution_count": null,
      "metadata": {
        "colab": {
          "base_uri": "https://localhost:8080/"
        },
        "id": "-Gd8PlMEXBLm",
        "outputId": "cb91616b-7de2-4c2a-93c9-fab8c0b6f549"
      },
      "outputs": [
        {
          "name": "stdout",
          "output_type": "stream",
          "text": [
            "Enter first number: 12\n",
            "Enter second number: 45\n",
            "Enter third number: 25\n",
            "The largest number is 45.0.\n"
          ]
        }
      ],
      "source": [
        "num1 = float(input(\"Enter first number: \"))\n",
        "num2 = float(input(\"Enter second number: \"))\n",
        "num3 = float(input(\"Enter third number: \"))\n",
        "\n",
        "if (num1 >= num2) and (num1 >= num3):\n",
        "    largest = num1\n",
        "elif (num2 >= num1) and (num2 >= num3):\n",
        "    largest = num2\n",
        "else:\n",
        "    largest = num3\n",
        "\n",
        "print(f\"The largest number is {largest}.\")\n"
      ]
    },
    {
      "cell_type": "code",
      "execution_count": null,
      "metadata": {
        "colab": {
          "base_uri": "https://localhost:8080/"
        },
        "id": "bQaiejPYdyIu",
        "outputId": "3b3b9650-3ad8-47b6-b17a-3bc9e460d768"
      },
      "outputs": [
        {
          "name": "stdout",
          "output_type": "stream",
          "text": [
            "Enter a number: 8\n",
            "8 is divisible by both 2 and 3.\n"
          ]
        }
      ],
      "source": [
        "num = int(input(\"Enter a number: \"))\n",
        "\n",
        "if (num % 2 == 0) or (num % 3 == 0):\n",
        "    print(f\"{num} is divisible by both 2 and 3.\")\n",
        "else:\n",
        "    print(f\"{num} is not divisible by both 2 and 3.\")\n"
      ]
    },
    {
      "cell_type": "code",
      "execution_count": null,
      "metadata": {
        "id": "vxJpmmz1d3zf"
      },
      "outputs": [],
      "source": [
        "marks = float(input(\"Enter your marks: \"))\n",
        "\n",
        "if marks >= 90:\n",
        "    grade = 'A+'\n",
        "elif marks >= 80:\n",
        "    grade = 'A'\n",
        "elif marks >= 70:\n",
        "    grade = 'B+'\n",
        "elif marks >= 60:\n",
        "    grade = 'B'\n",
        "elif marks >= 50:\n",
        "    grade = 'C'\n",
        "else:\n",
        "    grade = 'F'\n",
        "\n",
        "print(f\"Your grade is {grade}.\")\n"
      ]
    },
    {
      "cell_type": "code",
      "execution_count": null,
      "metadata": {
        "id": "cTZye8HThX6X"
      },
      "outputs": [],
      "source": [
        "num = int(input(\"Enter a number: \"))\n",
        "\n",
        "if 10 <= num <= 99:\n",
        "    print(f\"{num} is 2 digit.\")\n",
        "else:\n",
        "    print(f\"{num} is not between 1 and 100.\")\n"
      ]
    },
    {
      "cell_type": "code",
      "execution_count": null,
      "metadata": {
        "colab": {
          "base_uri": "https://localhost:8080/"
        },
        "id": "MNzJ_ONBhYyr",
        "outputId": "acd073c9-d2a6-4c06-adf6-69c6d17d8e98"
      },
      "outputs": [
        {
          "name": "stdout",
          "output_type": "stream",
          "text": [
            "Enter a number: 6\n",
            "6 is notncvhv divisible by 3.\n"
          ]
        }
      ],
      "source": [
        "num = int(input(\"Enter a number: \"))\n",
        "\n",
        "if  num<0 :\n",
        "    print(f\"{num} is neg.\")\n",
        "elif  num %5==0:\n",
        "\n",
        "else:\n",
        "    print(f\"{num} is not  divisible by 5.\")\n"
      ]
    },
    {
      "cell_type": "code",
      "execution_count": null,
      "metadata": {
        "colab": {
          "base_uri": "https://localhost:8080/"
        },
        "id": "HtMt-M5U6xDQ",
        "outputId": "82b85361-a662-4c94-8f91-bf0cba37a06d"
      },
      "outputs": [
        {
          "name": "stdout",
          "output_type": "stream",
          "text": [
            "Enter a character: a\n",
            "a is a vowel.\n"
          ]
        }
      ],
      "source": [
        "# Get input from the user\n",
        "char = input(\"Enter a character: \")\n",
        "\n",
        "# Convert the character to lowercase to handle both uppercase and lowercase inputs\n",
        "char = char.lower()\n",
        "\n",
        "# Check if the character is a vowel\n",
        "if char in ('a', 'e', 'i', 'o', 'u'):\n",
        "    print(f\"{char} is a vowel.\")\n",
        "else:\n",
        "    # If the character is not a vowel and is an alphabet, it's a consonant\n",
        "    if char.isalpha():\n",
        "      #a.isdigit():\n",
        "      #a.islower():\n",
        "      #a.isupper():\n",
        "        print(f\"{char} is a consonant.\")\n",
        "    else:\n",
        "        print(f\"{char} is not an alphabetic character.\")\n"
      ]
    },
    {
      "cell_type": "code",
      "execution_count": null,
      "metadata": {
        "id": "Y9PyBdvq9Fz7"
      },
      "outputs": [],
      "source": [
        "age = int(input(\"Enter your age: \"))\n",
        "\n",
        "if age >= 18:\n",
        "    print(\"You are eligible to vote.\")\n",
        "else:\n",
        "    print(\"You are not eligible to vote.\")\n"
      ]
    },
    {
      "cell_type": "code",
      "execution_count": null,
      "metadata": {
        "colab": {
          "base_uri": "https://localhost:8080/"
        },
        "id": "Kr4gSaBILyB9",
        "outputId": "489e24bd-d689-4a49-c8c4-b9cf6c6abb55"
      },
      "outputs": [
        {
          "name": "stdout",
          "output_type": "stream",
          "text": [
            "Enter a year: 2018\n",
            "2018 is not leap year\n"
          ]
        }
      ],
      "source": [
        "# Asking the user to enter a year\n",
        "year = int(input(\"Enter a year: \"))\n",
        "\n",
        "# Check if the year is a leap year\n",
        "#1700,2200,1800\n",
        "if (year % 100 == 0):\n",
        "    if (year % 400 == 0):\n",
        "        print(f\"{year} is leap year\")\n",
        "    else:\n",
        "      # 100 disivible, not disi by 400\n",
        "        print(f\"{year} is not  a leap year.\")\n",
        "elif (year % 4 ==0):\n",
        "  print(f\"{year} is leap year\")\n",
        "else:\n",
        "  print(f\"{year} is not leap year\")\n",
        "\n"
      ]
    },
    {
      "cell_type": "code",
      "execution_count": null,
      "metadata": {
        "colab": {
          "base_uri": "https://localhost:8080/"
        },
        "id": "oMOcQZzO9KfV",
        "outputId": "64a10aa3-13df-4013-e956-81464c987a60"
      },
      "outputs": [
        {
          "name": "stdout",
          "output_type": "stream",
          "text": [
            "Enter operation (+ or -): +\n",
            "Enter the first number: 3\n",
            "Enter the second number: 4\n",
            "The result is 7.0.\n"
          ]
        }
      ],
      "source": [
        "operation = input(\"Enter operation (+ or -): \")\n",
        "a = float(input(\"Enter the first number: \"))\n",
        "b = float(input(\"Enter the second number: \"))\n",
        "\n",
        "if operation == '+':\n",
        "    print(f\"The result is {a + b}.\")\n",
        "elif operation == '-':\n",
        "    print(f\"The result is {a - b}.\")\n",
        "else:\n",
        "    print(\"Invalid operation.\")\n"
      ]
    },
    {
      "cell_type": "code",
      "execution_count": null,
      "metadata": {
        "colab": {
          "base_uri": "https://localhost:8080/"
        },
        "id": "s1dMOPpM9XNE",
        "outputId": "10ef2b0d-acab-4f4d-a091-350fcdad47f8"
      },
      "outputs": [
        {
          "name": "stdout",
          "output_type": "stream",
          "text": [
            "apple\n",
            "banana\n",
            "cherry\n",
            "5\n",
            "56\n",
            "89\n",
            "78\n",
            "7876\n",
            "466\n"
          ]
        }
      ],
      "source": [
        "#loop\n",
        "#list []\n",
        "#tuple ()\n",
        "fruits = [\"apple\", \"banana\", \"cherry\",5,56,89,78,7876,466]\n",
        "\n",
        "\n",
        "for i in fruits:\n",
        "    print(i)\n",
        "\n"
      ]
    },
    {
      "cell_type": "code",
      "execution_count": null,
      "metadata": {
        "colab": {
          "base_uri": "https://localhost:8080/"
        },
        "id": "r1tYHG5hCnA7",
        "outputId": "560b8362-0d10-4987-e9e0-307524438a45"
      },
      "outputs": [
        {
          "name": "stdout",
          "output_type": "stream",
          "text": [
            "P\n",
            "y\n",
            "t\n",
            "h\n",
            "o\n",
            "n\n"
          ]
        }
      ],
      "source": [
        "word = \"Python\"\n",
        "\n",
        "for letter in word:\n",
        "    print(letter)\n"
      ]
    },
    {
      "cell_type": "code",
      "execution_count": null,
      "metadata": {
        "colab": {
          "base_uri": "https://localhost:8080/"
        },
        "id": "7OVY0O71C8nH",
        "outputId": "5a135e9e-4b52-4310-8324-7bd85c9ad7dc"
      },
      "outputs": [
        {
          "name": "stdout",
          "output_type": "stream",
          "text": [
            "0\n",
            "1\n",
            "2\n",
            "3\n",
            "4\n",
            "5\n"
          ]
        }
      ],
      "source": [
        "for i in range(6):\n",
        "    print(i)\n"
      ]
    },
    {
      "cell_type": "code",
      "execution_count": null,
      "metadata": {
        "colab": {
          "base_uri": "https://localhost:8080/"
        },
        "id": "zqXcSy__Egdl",
        "outputId": "d557d812-efad-4afa-cdc4-89ac059b3c55"
      },
      "outputs": [
        {
          "name": "stdout",
          "output_type": "stream",
          "text": [
            "1\n",
            "2\n",
            "3\n",
            "4\n",
            "5\n",
            "6\n",
            "7\n",
            "8\n",
            "9\n",
            "10\n"
          ]
        }
      ],
      "source": [
        "#for print 1 to 10\n",
        "for i in range(1, 11):\n",
        "    print(i)\n"
      ]
    },
    {
      "cell_type": "code",
      "execution_count": null,
      "metadata": {
        "colab": {
          "base_uri": "https://localhost:8080/"
        },
        "id": "WIIHIGp6E6CK",
        "outputId": "ce6b8425-1791-4fb2-992d-d841ba1e502f"
      },
      "outputs": [
        {
          "name": "stdout",
          "output_type": "stream",
          "text": [
            "Sum of the first 10 natural numbers: 55\n"
          ]
        }
      ],
      "source": [
        "total = 0\n",
        "\n",
        "for i in range(1, 11):\n",
        "    total += i\n",
        "\n",
        "print(\"Sum of the first 10 natural numbers:\", total)\n"
      ]
    },
    {
      "cell_type": "code",
      "execution_count": null,
      "metadata": {
        "colab": {
          "base_uri": "https://localhost:8080/"
        },
        "id": "C3KECKyKq3Qo",
        "outputId": "c416d6a4-106d-42b9-863c-f00d732386ed"
      },
      "outputs": [
        {
          "name": "stdout",
          "output_type": "stream",
          "text": [
            "hello aswathy\n",
            ",how are you?\n",
            "how are you\n",
            "hello world\n",
            "hello world\n",
            "what is ur name?aparna\n",
            "hello aparna\n",
            "what is ur nameaparna\n",
            "6\n"
          ]
        }
      ],
      "source": [
        "\n",
        "print(\"hello aswathy\\n,how are you?\")\n",
        "print(\"how are you\")\n",
        "print(\"hello world\")\n",
        "print(\"hello\"+\" \"+\"world\")\n",
        "print(\"hello\"+\" \"+input(\"what is ur name?\"))\n",
        "name=input(\"what is ur name\")\n",
        "length=len(name)\n",
        "print(length)\n",
        "\n",
        "\n"
      ]
    },
    {
      "cell_type": "code",
      "execution_count": null,
      "metadata": {
        "colab": {
          "base_uri": "https://localhost:8080/",
          "height": 356
        },
        "id": "R7ajeYMb5d6P",
        "outputId": "68106d40-5466-4edd-8d0a-d7e6d3e84ece"
      },
      "outputs": [
        {
          "ename": "KeyboardInterrupt",
          "evalue": "Interrupted by user",
          "output_type": "error",
          "traceback": [
            "\u001b[0;31m---------------------------------------------------------------------------\u001b[0m",
            "\u001b[0;31mKeyboardInterrupt\u001b[0m                         Traceback (most recent call last)",
            "\u001b[0;32m<ipython-input-13-693d3cc29e41>\u001b[0m in \u001b[0;36m<cell line: 1>\u001b[0;34m()\u001b[0m\n\u001b[0;32m----> 1\u001b[0;31m \u001b[0ma\u001b[0m\u001b[0;34m=\u001b[0m\u001b[0mint\u001b[0m\u001b[0;34m(\u001b[0m\u001b[0minput\u001b[0m\u001b[0;34m(\u001b[0m\u001b[0;34m\"enter a number\"\u001b[0m\u001b[0;34m)\u001b[0m\u001b[0;34m)\u001b[0m\u001b[0;34m\u001b[0m\u001b[0;34m\u001b[0m\u001b[0m\n\u001b[0m\u001b[1;32m      2\u001b[0m \u001b[0mb\u001b[0m\u001b[0;34m=\u001b[0m\u001b[0mint\u001b[0m\u001b[0;34m(\u001b[0m\u001b[0minput\u001b[0m\u001b[0;34m(\u001b[0m\u001b[0;34m\"enter 2nd number\"\u001b[0m\u001b[0;34m)\u001b[0m\u001b[0;34m)\u001b[0m\u001b[0;34m\u001b[0m\u001b[0;34m\u001b[0m\u001b[0m\n\u001b[1;32m      3\u001b[0m \u001b[0mc\u001b[0m\u001b[0;34m=\u001b[0m\u001b[0ma\u001b[0m\u001b[0;34m\u001b[0m\u001b[0;34m\u001b[0m\u001b[0m\n\u001b[1;32m      4\u001b[0m \u001b[0ma\u001b[0m\u001b[0;34m=\u001b[0m\u001b[0mb\u001b[0m\u001b[0;34m\u001b[0m\u001b[0;34m\u001b[0m\u001b[0m\n\u001b[1;32m      5\u001b[0m \u001b[0mb\u001b[0m\u001b[0;34m=\u001b[0m\u001b[0mc\u001b[0m\u001b[0;34m\u001b[0m\u001b[0;34m\u001b[0m\u001b[0m\n",
            "\u001b[0;32m/usr/local/lib/python3.10/dist-packages/ipykernel/kernelbase.py\u001b[0m in \u001b[0;36mraw_input\u001b[0;34m(self, prompt)\u001b[0m\n\u001b[1;32m    849\u001b[0m                 \u001b[0;34m\"raw_input was called, but this frontend does not support input requests.\"\u001b[0m\u001b[0;34m\u001b[0m\u001b[0;34m\u001b[0m\u001b[0m\n\u001b[1;32m    850\u001b[0m             )\n\u001b[0;32m--> 851\u001b[0;31m         return self._input_request(str(prompt),\n\u001b[0m\u001b[1;32m    852\u001b[0m             \u001b[0mself\u001b[0m\u001b[0;34m.\u001b[0m\u001b[0m_parent_ident\u001b[0m\u001b[0;34m,\u001b[0m\u001b[0;34m\u001b[0m\u001b[0;34m\u001b[0m\u001b[0m\n\u001b[1;32m    853\u001b[0m             \u001b[0mself\u001b[0m\u001b[0;34m.\u001b[0m\u001b[0m_parent_header\u001b[0m\u001b[0;34m,\u001b[0m\u001b[0;34m\u001b[0m\u001b[0;34m\u001b[0m\u001b[0m\n",
            "\u001b[0;32m/usr/local/lib/python3.10/dist-packages/ipykernel/kernelbase.py\u001b[0m in \u001b[0;36m_input_request\u001b[0;34m(self, prompt, ident, parent, password)\u001b[0m\n\u001b[1;32m    893\u001b[0m             \u001b[0;32mexcept\u001b[0m \u001b[0mKeyboardInterrupt\u001b[0m\u001b[0;34m:\u001b[0m\u001b[0;34m\u001b[0m\u001b[0;34m\u001b[0m\u001b[0m\n\u001b[1;32m    894\u001b[0m                 \u001b[0;31m# re-raise KeyboardInterrupt, to truncate traceback\u001b[0m\u001b[0;34m\u001b[0m\u001b[0;34m\u001b[0m\u001b[0m\n\u001b[0;32m--> 895\u001b[0;31m                 \u001b[0;32mraise\u001b[0m \u001b[0mKeyboardInterrupt\u001b[0m\u001b[0;34m(\u001b[0m\u001b[0;34m\"Interrupted by user\"\u001b[0m\u001b[0;34m)\u001b[0m \u001b[0;32mfrom\u001b[0m \u001b[0;32mNone\u001b[0m\u001b[0;34m\u001b[0m\u001b[0;34m\u001b[0m\u001b[0m\n\u001b[0m\u001b[1;32m    896\u001b[0m             \u001b[0;32mexcept\u001b[0m \u001b[0mException\u001b[0m \u001b[0;32mas\u001b[0m \u001b[0me\u001b[0m\u001b[0;34m:\u001b[0m\u001b[0;34m\u001b[0m\u001b[0;34m\u001b[0m\u001b[0m\n\u001b[1;32m    897\u001b[0m                 \u001b[0mself\u001b[0m\u001b[0;34m.\u001b[0m\u001b[0mlog\u001b[0m\u001b[0;34m.\u001b[0m\u001b[0mwarning\u001b[0m\u001b[0;34m(\u001b[0m\u001b[0;34m\"Invalid Message:\"\u001b[0m\u001b[0;34m,\u001b[0m \u001b[0mexc_info\u001b[0m\u001b[0;34m=\u001b[0m\u001b[0;32mTrue\u001b[0m\u001b[0;34m)\u001b[0m\u001b[0;34m\u001b[0m\u001b[0;34m\u001b[0m\u001b[0m\n",
            "\u001b[0;31mKeyboardInterrupt\u001b[0m: Interrupted by user"
          ]
        }
      ],
      "source": [
        "a=int(input(\"enter a number\"))\n",
        "b=int(input(\"enter 2nd number\"))\n",
        "c=a\n",
        "a=b\n",
        "b=c\n",
        "print(f\"a={a}and b={b}\")\n",
        "print(a,b)\n"
      ]
    },
    {
      "cell_type": "code",
      "execution_count": null,
      "metadata": {
        "colab": {
          "background_save": true
        },
        "id": "JmBwR8Ca5nal",
        "outputId": "3a569781-c426-4055-9490-22d7da645353"
      },
      "outputs": [
        {
          "ename": "NameError",
          "evalue": "name 'hello' is not defined",
          "output_type": "error",
          "traceback": [
            "\u001b[0;31m---------------------------------------------------------------------------\u001b[0m",
            "\u001b[0;31mNameError\u001b[0m                                 Traceback (most recent call last)",
            "\u001b[0;32m<ipython-input-14-fc6a0eb10693>\u001b[0m in \u001b[0;36m<cell line: 1>\u001b[0;34m()\u001b[0m\n\u001b[0;32m----> 1\u001b[0;31m \u001b[0mprint\u001b[0m\u001b[0;34m(\u001b[0m\u001b[0;36m5\u001b[0m\u001b[0;34m*\u001b[0m\u001b[0mhello\u001b[0m\u001b[0;34m)\u001b[0m\u001b[0;34m\u001b[0m\u001b[0;34m\u001b[0m\u001b[0m\n\u001b[0m",
            "\u001b[0;31mNameError\u001b[0m: name 'hello' is not defined"
          ]
        }
      ],
      "source": [
        "print(5*hello)\n"
      ]
    },
    {
      "cell_type": "code",
      "execution_count": null,
      "metadata": {
        "colab": {
          "base_uri": "https://localhost:8080/"
        },
        "id": "FIGLLQSv9I9n",
        "outputId": "ada0300b-38da-4e37-f827-25ef3d71edfe"
      },
      "outputs": [
        {
          "name": "stdout",
          "output_type": "stream",
          "text": [
            "my name is aparna and my age is 23\n",
            "age\n"
          ]
        }
      ],
      "source": []
    },
    {
      "cell_type": "code",
      "execution_count": null,
      "metadata": {
        "colab": {
          "base_uri": "https://localhost:8080/"
        },
        "id": "Ow3bZVXl-o7m",
        "outputId": "048df1ec-03ad-46a5-8226-5ba70283d809"
      },
      "outputs": [
        {
          "name": "stdout",
          "output_type": "stream",
          "text": [
            "18+12 = 30\n"
          ]
        }
      ],
      "source": [
        "print(\"18+12 =\", 18 + 12)\n"
      ]
    },
    {
      "cell_type": "code",
      "execution_count": null,
      "metadata": {
        "id": "PIsoBCDQ-3yb",
        "colab": {
          "base_uri": "https://localhost:8080/"
        },
        "outputId": "0f3bc131-9679-4f06-bb82-cef02532c88e"
      },
      "outputs": [
        {
          "output_type": "stream",
          "name": "stdout",
          "text": [
            "enter a 2 digit number12\n",
            "3\n"
          ]
        }
      ],
      "source": [
        "a=input(\"enter a 2 digit number\")\n",
        "ist=int(a[0])\n",
        "sed=int(a[1])\n",
        "print(ist+sed)"
      ]
    },
    {
      "cell_type": "code",
      "source": [
        "#arimeticoperator\n",
        "x=6\n",
        "y=9\n",
        "print(\"x+y =\",x+y)\n",
        "print(\"x-y= \",x-y)\n",
        "print(\"x*y=\",x*y)\n",
        "print(\"x%y\",x%y)\n",
        "print(\"x/y=\",x/y)\n",
        "print(\"x//y=\",x//y)\n",
        "print(\"x**y=\",x**y)"
      ],
      "metadata": {
        "id": "fcEJHs0en3o1"
      },
      "execution_count": null,
      "outputs": []
    },
    {
      "cell_type": "code",
      "source": [],
      "metadata": {
        "id": "HMjWiEuQubtX"
      },
      "execution_count": null,
      "outputs": []
    },
    {
      "cell_type": "code",
      "source": [
        "y=5+2*3-1+10/5\n",
        "print(y)"
      ],
      "metadata": {
        "id": "9Fm2ZfCz2krC"
      },
      "execution_count": null,
      "outputs": []
    },
    {
      "cell_type": "code",
      "source": [
        "#comparsion\n",
        "a=5\n",
        "print(a==5)\n",
        "print(a<=5)\n",
        "print(a!=5)\n",
        "print(a<5)\n",
        "print(a>=5)"
      ],
      "metadata": {
        "id": "UrWRc0I14wHK"
      },
      "execution_count": null,
      "outputs": []
    },
    {
      "cell_type": "code",
      "source": [
        "#logical\n",
        "a=5\n",
        "b=4\n",
        "print(a<5 and b==4)\n",
        "print(a<=5 and b==7)\n",
        "print(a<5 or b==4)\n",
        "print(5 and 4)\n",
        "print(0 and 4)\n",
        "print(0 or 4)\n",
        "print(not(a))\n",
        "a=False\n",
        "print(not(a))\n"
      ],
      "metadata": {
        "colab": {
          "base_uri": "https://localhost:8080/"
        },
        "id": "phCnkCkT-mur",
        "outputId": "a419f941-ae73-4efe-8000-aef6e991e855"
      },
      "execution_count": null,
      "outputs": [
        {
          "output_type": "stream",
          "name": "stdout",
          "text": [
            "False\n",
            "False\n",
            "True\n",
            "4\n",
            "0\n",
            "4\n",
            "False\n",
            "True\n"
          ]
        }
      ]
    },
    {
      "cell_type": "code",
      "source": [
        "a=5\n",
        "b=4\n",
        "print(a&b)\n",
        "print(a|b)\n",
        "print(a^b)\n",
        "print(~a)\n",
        "print(a<<2)\n",
        "print(a>>2)"
      ],
      "metadata": {
        "colab": {
          "base_uri": "https://localhost:8080/"
        },
        "id": "UDByfqf0Avx1",
        "outputId": "a06b1f21-7dae-4e0c-c871-e4e715ba5ce6"
      },
      "execution_count": null,
      "outputs": [
        {
          "output_type": "stream",
          "name": "stdout",
          "text": [
            "4\n",
            "5\n",
            "1\n",
            "-6\n",
            "20\n",
            "1\n"
          ]
        }
      ]
    },
    {
      "cell_type": "code",
      "source": [
        "#identityoperator\n",
        "a=10\n",
        "print(id(a))\n",
        "print(id(10))"
      ],
      "metadata": {
        "colab": {
          "base_uri": "https://localhost:8080/"
        },
        "id": "VDJHenS1CrVt",
        "outputId": "fcec2a23-fe8d-44c7-92b8-47ed8dc5df7d"
      },
      "execution_count": null,
      "outputs": [
        {
          "output_type": "stream",
          "name": "stdout",
          "text": [
            "133773878592016\n",
            "133773878592016\n"
          ]
        }
      ]
    },
    {
      "cell_type": "code",
      "source": [
        "a=10\n",
        "b=11\n",
        "print(a is b)#id check\n",
        "print(id(a))\n",
        "print(id(b))\n",
        "print(a is not b)\n",
        "print(a==b)#value check\n",
        "print(id(a)==id(b))"
      ],
      "metadata": {
        "colab": {
          "base_uri": "https://localhost:8080/"
        },
        "id": "HAoQ3yPiDZVB",
        "outputId": "4f97093e-cbad-4c9e-fffd-ad5c6d4c90e8"
      },
      "execution_count": null,
      "outputs": [
        {
          "output_type": "stream",
          "name": "stdout",
          "text": [
            "False\n",
            "133773878592016\n",
            "133773878592048\n",
            "True\n",
            "False\n",
            "False\n"
          ]
        }
      ]
    },
    {
      "cell_type": "code",
      "source": [
        "#membershipoperator\n",
        "str=\"jenny\"\n",
        "print(\"y\" in str)\n",
        "print(\"Y\" in str)\n",
        "print(\"nny\" in str)\n",
        "print(\"Y\" not in str)\n",
        "print(\"e\" not in str)\n"
      ],
      "metadata": {
        "colab": {
          "base_uri": "https://localhost:8080/"
        },
        "id": "mjxIz4rOFWcK",
        "outputId": "fb2a0eb0-8976-44cd-fb9f-058b4ca8398e"
      },
      "execution_count": null,
      "outputs": [
        {
          "output_type": "stream",
          "name": "stdout",
          "text": [
            "True\n",
            "False\n",
            "True\n",
            "True\n",
            "False\n"
          ]
        }
      ]
    },
    {
      "cell_type": "code",
      "source": [
        "name=\"hello aparna\"\n",
        "l=name.find(\"hello\")\n",
        "print(l)"
      ],
      "metadata": {
        "id": "7jeVU237FWYi",
        "colab": {
          "base_uri": "https://localhost:8080/"
        },
        "outputId": "1036e206-e6d5-4dff-d018-f753a9e28305"
      },
      "execution_count": null,
      "outputs": [
        {
          "output_type": "stream",
          "name": "stdout",
          "text": [
            "0\n"
          ]
        }
      ]
    },
    {
      "cell_type": "code",
      "source": [
        "# Example string\n",
        "text = \"hello world! welcome to the world of programming.\"\n",
        "\n",
        "# 1. Using string.count()\n",
        "# Count the occurrences of the word 'world'\n",
        "count_world = text.count('world')\n",
        "print(\"Count of 'world':\", count_world)\n",
        "\n",
        "# 2. Using string.capitalize()\n",
        "# Capitalize the first letter of the string\n",
        "capitalized_text = text.capitalize()\n",
        "print(\"Capitalized text:\", capitalized_text)\n",
        "\n",
        "# 3. Using string.find()\n",
        "# Find the position of the first occurrence of 'welcome'\n",
        "position_welcome = text.find('welcome')\n",
        "print(\"Position of 'welcome':\", position_welcome)\n",
        "\n",
        "# 4. Using string.replace()\n",
        "# Replace 'world' with 'universe'\n",
        "replaced_text = text.replace('world', 'universe')\n",
        "print(\"Text after replacement:\", replaced_text)\n"
      ],
      "metadata": {
        "colab": {
          "base_uri": "https://localhost:8080/"
        },
        "id": "d49NQmggAnJx",
        "outputId": "64c2df7e-ffbe-464d-b0bc-f0aac69e358c"
      },
      "execution_count": null,
      "outputs": [
        {
          "output_type": "stream",
          "name": "stdout",
          "text": [
            "Count of 'world': 2\n",
            "Capitalized text: Hello world! welcome to the world of programming.\n",
            "Position of 'welcome': 13\n",
            "Text after replacement: hello universe! welcome to the universe of programming.\n"
          ]
        }
      ]
    },
    {
      "cell_type": "code",
      "source": [
        "# Example string\n",
        "text = \"Hello Aparna, how are you?\"\n",
        "\n",
        "# Using string.find() to find the first space\n",
        "space_index = text.find(' ')\n",
        "\n",
        "if space_index != -1:\n",
        "    print(f\"First space found at index: {space_index}\")\n",
        "else:\n",
        "    print(\"No space found in the string.\")\n"
      ],
      "metadata": {
        "colab": {
          "base_uri": "https://localhost:8080/"
        },
        "id": "3U8NdL6JAvzb",
        "outputId": "beba143d-bbce-41b4-e41a-77cb25f1a8b4"
      },
      "execution_count": null,
      "outputs": [
        {
          "output_type": "stream",
          "name": "stdout",
          "text": [
            "First space found at index: 5\n"
          ]
        }
      ]
    },
    {
      "cell_type": "code",
      "source": [
        "# Example string\n",
        "text = \"Hello Aparna, how are you?\"\n",
        "\n",
        "# Using string.count() to count the number of spaces\n",
        "space_count = text.count(' ')\n",
        "\n",
        "print(f\"Number of spaces in the string: {space_count}\")\n"
      ],
      "metadata": {
        "colab": {
          "base_uri": "https://localhost:8080/"
        },
        "id": "lZS4gmGiByz6",
        "outputId": "10d8ab78-0950-4170-fd5b-88843212e244"
      },
      "execution_count": null,
      "outputs": [
        {
          "output_type": "stream",
          "name": "stdout",
          "text": [
            "Number of spaces in the string: 4\n"
          ]
        }
      ]
    },
    {
      "cell_type": "code",
      "source": [
        "# Create an initial list\n",
        "my_list = [3, 8, 2, 7, 4]\n",
        "\n",
        "# 1. Append an item to the list\n",
        "my_list.append(10)\n",
        "print(\"After append:\", my_list)\n",
        "\n",
        "# 2. Extend the list with another list\n",
        "my_list.extend([11, 12])\n",
        "print(\"After extend:\", my_list)\n",
        "\n",
        "# 3. Insert an item at a specific index\n",
        "my_list.insert(1, 15)\n",
        "print(\"After insert:\", my_list)\n",
        "\n",
        "# 4. Remove the first occurrence of an item\n",
        "my_list.remove(7)\n",
        "print(\"After remove:\", my_list)\n",
        "\n",
        "# 5. Pop an item from the list (last element by default)\n",
        "popped_item = my_list.pop()\n",
        "print(\"After pop (last item removed):\", my_list)\n",
        "print(\"Popped item:\", popped_item)\n",
        "\n",
        "# 6. Pop an item at a specific index\n",
        "popped_item_at_index = my_list.pop(2)\n",
        "print(\"After pop (item at index 2 removed):\", my_list)\n",
        "print(\"Popped item at index 2:\", popped_item_at_index)\n",
        "\n",
        "# 7. Find the index of the first occurrence of an item\n",
        "index_of_15 = my_list.index(15)\n",
        "print(\"Index of 15:\", index_of_15)\n",
        "\n",
        "# 8. Count the occurrences of an item\n",
        "count_of_15 = my_list.count(15)\n",
        "print(\"Count of 15:\", count_of_15)\n",
        "\n",
        "# 9. Sort the list\n",
        "my_list.sort()\n",
        "print(\"After sort:\", my_list)\n",
        "\n",
        "# 10. Reverse the list\n",
        "my_list.reverse()\n",
        "print(\"After reverse:\", my_list)\n",
        "\n",
        "# 11. Copy the list\n",
        "copied_list = my_list.copy()\n",
        "print(\"Copied list:\", copied_list)\n",
        "\n",
        "# 12. Clear the list\n",
        "my_list.clear()\n",
        "print(\"After clear:\", my_list)\n",
        "\n",
        "# 13. Find the length of the copied list\n",
        "length_of_copied_list = len(copied_list)\n",
        "print(\"Length of copied list:\", length_of_copied_list)\n",
        "\n",
        "# 14. Membership testing\n",
        "if 15 in copied_list:\n",
        "    print(\"15 is in the copied list\")\n",
        "else:\n",
        "    print(\"15 is not in the copied list\")\n",
        "\n",
        "\n",
        "\n",
        "# 16. List concatenation\n",
        "combined_list = copied_list + [20, 30]\n",
        "print(\"After list concatenation:\", combined_list)\n"
      ],
      "metadata": {
        "colab": {
          "base_uri": "https://localhost:8080/"
        },
        "id": "nQSEGUKoB2Rq",
        "outputId": "05397b38-928c-4e8a-a8eb-4c5f74e7587b"
      },
      "execution_count": null,
      "outputs": [
        {
          "output_type": "stream",
          "name": "stdout",
          "text": [
            "After append: [3, 8, 2, 7, 4, 10]\n",
            "After extend: [3, 8, 2, 7, 4, 10, 11, 12]\n",
            "After insert: [3, 15, 8, 2, 7, 4, 10, 11, 12]\n",
            "After remove: [3, 15, 8, 2, 4, 10, 11, 12]\n",
            "After pop (last item removed): [3, 15, 8, 2, 4, 10, 11]\n",
            "Popped item: 12\n",
            "After pop (item at index 2 removed): [3, 15, 2, 4, 10, 11]\n",
            "Popped item at index 2: 8\n",
            "Index of 15: 1\n",
            "Count of 15: 1\n",
            "After sort: [2, 3, 4, 10, 11, 15]\n",
            "After reverse: [15, 11, 10, 4, 3, 2]\n",
            "Copied list: [15, 11, 10, 4, 3, 2]\n",
            "After clear: []\n",
            "Length of copied list: 6\n",
            "15 is in the copied list\n",
            "List comprehension (squares): [0, 1, 4, 9, 16]\n",
            "After list concatenation: [15, 11, 10, 4, 3, 2, 20, 30]\n"
          ]
        }
      ]
    },
    {
      "cell_type": "code",
      "source": [
        "# Example list\n",
        "my_list = [11, 52, 37, 48, 59, 63, 71, 88, 93, 10]\n",
        "\n",
        "# Basic slicing\n",
        "slice_1 = my_list[2:7]   # Elements from index 2 to 6\n",
        "print(\"Slice 1:\", slice_1)\n",
        "\n",
        "# Slicing with step\n",
        "slice_2 = my_list[1:10:2] # Elements from index 1 to 9, with a step of 2\n",
        "print(\"Slice 2:\", slice_2)\n",
        "\n",
        "# Omitting start index\n",
        "slice_3 = my_list[:5]     # Elements from the start to index 4\n",
        "print(\"Slice 3:\", slice_3)\n",
        "\n",
        "# Omitting end index\n",
        "slice_4 = my_list[5:]     # Elements from index 5 to the end\n",
        "print(\"Slice 4:\", slice_4)\n",
        "\n",
        "# Negative indices\n",
        "slice_5 = my_list[-5:-1]  # Elements from the fifth last to the second last\n",
        "print(\"Slice 5:\", slice_5)\n",
        "\n",
        "# Reverse slicing\n",
        "slice_6 = my_list[::-1]   # Reverse the entire list\n",
        "print(\"Slice 6:\", slice_6)\n"
      ],
      "metadata": {
        "colab": {
          "base_uri": "https://localhost:8080/"
        },
        "id": "Ycd13baQQr26",
        "outputId": "8747450a-ff0a-467b-f03e-2c5ba1f17ff6"
      },
      "execution_count": null,
      "outputs": [
        {
          "output_type": "stream",
          "name": "stdout",
          "text": [
            "Slice 1: [37, 48, 59, 63, 71]\n",
            "Slice 2: [52, 48, 63, 88, 10]\n",
            "Slice 3: [11, 52, 37, 48, 59]\n",
            "Slice 4: [63, 71, 88, 93, 10]\n",
            "Slice 5: [63, 71, 88, 93]\n",
            "Slice 6: [10, 93, 88, 71, 63, 59, 48, 37, 52, 11]\n"
          ]
        }
      ]
    },
    {
      "cell_type": "code",
      "source": [
        "# Initialize the list to store fruit names\n",
        "fruits = []\n",
        "\n",
        "# Get the names of 7 fruits from the user\n",
        "fruits.append(input(\"Enter the name of fruit 1: \"))\n",
        "fruits.append(input(\"Enter the name of fruit 2: \"))\n",
        "fruits.append(input(\"Enter the name of fruit 3: \"))\n",
        "fruits.append(input(\"Enter the name of fruit 4: \"))\n",
        "fruits.append(input(\"Enter the name of fruit 5: \"))\n",
        "fruits.append(input(\"Enter the name of fruit 6: \"))\n",
        "fruits.append(input(\"Enter the name of fruit 7: \"))\n",
        "\n",
        "# Print the list of fruits\n",
        "print(\"List of fruits entered:\", fruits)\n"
      ],
      "metadata": {
        "id": "_HR0tGdtR3Ur",
        "colab": {
          "base_uri": "https://localhost:8080/"
        },
        "outputId": "3aa6930d-765b-4f57-880b-6672d41be275"
      },
      "execution_count": null,
      "outputs": [
        {
          "output_type": "stream",
          "name": "stdout",
          "text": [
            "Enter the name of fruit 1: apple\n",
            "Enter the name of fruit 2: orange\n",
            "Enter the name of fruit 3: bannana\n",
            "Enter the name of fruit 4: grape\n",
            "Enter the name of fruit 5: tomato\n",
            "Enter the name of fruit 6: onion\n",
            "Enter the name of fruit 7: strawberry\n",
            "List of fruits entered: ['apple', 'orange', 'bannana', 'grape', 'tomato', 'onion', 'strawberry']\n"
          ]
        }
      ]
    },
    {
      "cell_type": "code",
      "source": [
        "# Initialize an empty list to store the marks\n",
        "marks = []\n",
        "\n",
        "# Accept marks for 6 students\n",
        "marks.append(float(input(\"Enter the marks for student 1: \")))\n",
        "marks.append(float(input(\"Enter the marks for student 2: \")))\n",
        "marks.append(float(input(\"Enter the marks for student 3: \")))\n",
        "marks.append(float(input(\"Enter the marks for student 4: \")))\n",
        "marks.append(float(input(\"Enter the marks for student 5: \")))\n",
        "marks.append(float(input(\"Enter the marks for student 6: \")))\n",
        "\n",
        "# Sort the marks in ascending order\n",
        "marks.sort()\n",
        "\n",
        "# Display the sorted list of marks\n",
        "print(\"Sorted marks of students:\", marks)\n"
      ],
      "metadata": {
        "id": "fXYffZJGR4Rf",
        "colab": {
          "base_uri": "https://localhost:8080/"
        },
        "outputId": "37dfe2cc-c0b4-4caa-8f11-f666c4b2e63e"
      },
      "execution_count": null,
      "outputs": [
        {
          "output_type": "stream",
          "name": "stdout",
          "text": [
            "Enter the marks for student 1: 12\n",
            "Enter the marks for student 2: 45\n",
            "Enter the marks for student 3: 67\n",
            "Enter the marks for student 4: 89\n",
            "Enter the marks for student 5: 23\n",
            "Enter the marks for student 6: 99\n",
            "Sorted marks of students: [12.0, 23.0, 45.0, 67.0, 89.0, 99.0]\n"
          ]
        }
      ]
    },
    {
      "cell_type": "code",
      "source": [
        "# Creating a tuple\n",
        "my_tuple = (10, 20, 30, 40, 50)\n",
        "\n",
        "# Accessing elements of the tuple\n",
        "print(\"First element:\", my_tuple[0])\n",
        "print(\"Second element:\", my_tuple[1])\n",
        "print(\"Last element:\", my_tuple[-1])\n"
      ],
      "metadata": {
        "id": "5ChmH1JKQ1o2",
        "colab": {
          "base_uri": "https://localhost:8080/"
        },
        "outputId": "c61e4b26-8a2d-4d5c-a11f-e79e8f6ea022"
      },
      "execution_count": null,
      "outputs": [
        {
          "output_type": "stream",
          "name": "stdout",
          "text": [
            "First element: 10\n",
            "Second element: 20\n",
            "Last element: 50\n"
          ]
        }
      ]
    },
    {
      "cell_type": "code",
      "source": [
        "# Tuple containing different data types\n",
        "mixed_tuple = (1, \"Hello\", 3.14, True)\n",
        "\n",
        "# Accessing elements\n",
        "print(\"Integer element:\", mixed_tuple[0])\n",
        "print(\"String element:\", mixed_tuple[1])\n",
        "print(\"Float element:\", mixed_tuple[2])\n",
        "print(\"Boolean element:\", mixed_tuple[3])\n"
      ],
      "metadata": {
        "id": "lOofs73BQ23m",
        "colab": {
          "base_uri": "https://localhost:8080/"
        },
        "outputId": "e983c537-e530-4db2-96af-1effb2be7191"
      },
      "execution_count": null,
      "outputs": [
        {
          "output_type": "stream",
          "name": "stdout",
          "text": [
            "Integer element: 1\n",
            "String element: Hello\n",
            "Float element: 3.14\n",
            "Boolean element: True\n"
          ]
        }
      ]
    },
    {
      "cell_type": "code",
      "source": [
        "# Creating a tuple\n",
        "num_tuple = (10, 20, 30, 40, 50, 60)\n",
        "\n",
        "# Slicing the tuple\n",
        "slice1 = num_tuple[1:4]\n",
        "slice2 = num_tuple[:3]\n",
        "slice3 = num_tuple[3:]\n",
        "\n",
        "print(\"Sliced tuple 1:\", slice1)\n",
        "print(\"Sliced tuple 2:\", slice2)\n",
        "print(\"Sliced tuple 3:\", slice3)\n"
      ],
      "metadata": {
        "id": "UlaNKhTZQ2yh",
        "colab": {
          "base_uri": "https://localhost:8080/"
        },
        "outputId": "feccff50-4f66-4cbb-f199-6b5ae794da68"
      },
      "execution_count": null,
      "outputs": [
        {
          "output_type": "stream",
          "name": "stdout",
          "text": [
            "Sliced tuple 1: (20, 30, 40)\n",
            "Sliced tuple 2: (10, 20, 30)\n",
            "Sliced tuple 3: (40, 50, 60)\n"
          ]
        }
      ]
    },
    {
      "cell_type": "code",
      "source": [
        "# Creating a tuple\n",
        "fruits = (\"apple\", \"banana\", \"cherry\", \"date\")\n",
        "\n",
        "# Finding the length\n",
        "length = len(fruits)\n",
        "print(\"Number of fruits:\", length)\n"
      ],
      "metadata": {
        "id": "bbe7f807SCun",
        "colab": {
          "base_uri": "https://localhost:8080/"
        },
        "outputId": "cc94b920-e075-4179-fd65-beff92625180"
      },
      "execution_count": null,
      "outputs": [
        {
          "output_type": "stream",
          "name": "stdout",
          "text": [
            "Number of fruits: 4\n"
          ]
        }
      ]
    },
    {
      "cell_type": "code",
      "source": [
        "# Creating a tuple\n",
        "colors = (\"red\", \"blue\", \"green\", \"yellow\")\n",
        "\n",
        "# Checking for membership\n",
        "print(\"Is 'blue' in the tuple?\", 'blue' in colors)\n",
        "print(\"Is 'pink' in the tuple?\", 'pink' in colors)\n"
      ],
      "metadata": {
        "id": "YKaOAXoJSvhi",
        "colab": {
          "base_uri": "https://localhost:8080/"
        },
        "outputId": "8ce9f198-d1c3-4721-a3f1-4abb08597fae"
      },
      "execution_count": null,
      "outputs": [
        {
          "output_type": "stream",
          "name": "stdout",
          "text": [
            "Is 'blue' in the tuple? True\n",
            "Is 'pink' in the tuple? False\n"
          ]
        }
      ]
    },
    {
      "cell_type": "code",
      "source": [
        "# Creating two tuples\n",
        "tuple1 = (1, 2, 3)\n",
        "tuple2 = (4, 5, 6)\n",
        "\n",
        "# Concatenating tuples\n",
        "result = tuple1 + tuple2\n",
        "print(\"Concatenated tuple:\", result)\n"
      ],
      "metadata": {
        "id": "MlDt_CX6Sy2j",
        "colab": {
          "base_uri": "https://localhost:8080/"
        },
        "outputId": "8f14142e-539d-421a-f42e-e8a3d9981266"
      },
      "execution_count": null,
      "outputs": [
        {
          "output_type": "stream",
          "name": "stdout",
          "text": [
            "Concatenated tuple: (1, 2, 3, 4, 5, 6)\n"
          ]
        }
      ]
    },
    {
      "cell_type": "code",
      "source": [
        "# Creating a tuple\n",
        "tuple1 = (\"A\", \"B\", \"C\")\n",
        "\n",
        "# Repeating the tuple\n",
        "result = tuple1 * 3\n",
        "print(\"Repeated tuple:\", result)\n"
      ],
      "metadata": {
        "id": "_IG1z4PpS80D",
        "colab": {
          "base_uri": "https://localhost:8080/"
        },
        "outputId": "b4c2b52b-17dc-4c10-cd4e-ed159f4b1136"
      },
      "execution_count": null,
      "outputs": [
        {
          "output_type": "stream",
          "name": "stdout",
          "text": [
            "Repeated tuple: ('A', 'B', 'C', 'A', 'B', 'C', 'A', 'B', 'C')\n"
          ]
        }
      ]
    },
    {
      "cell_type": "code",
      "source": [
        "# Creating a set with initial values\n",
        "my_set = {1, 2, 3, 4, 5,5}\n",
        "\n",
        "# Printing the set\n",
        "print(\"Set:\", my_set)\n"
      ],
      "metadata": {
        "id": "YNNmb1ZvVDc_",
        "colab": {
          "base_uri": "https://localhost:8080/"
        },
        "outputId": "71aae140-e9b7-45a2-a4bd-1503fe2bc8db"
      },
      "execution_count": null,
      "outputs": [
        {
          "output_type": "stream",
          "name": "stdout",
          "text": [
            "Set: {1, 2, 3, 4, 5}\n"
          ]
        }
      ]
    },
    {
      "cell_type": "code",
      "source": [
        "# Creating an empty set\n",
        "my_set = set()\n",
        "\n",
        "# Adding elements to the set\n",
        "my_set.add(10)\n",
        "my_set.add(20)\n",
        "my_set.add(30)\n",
        "\n",
        "print(\"Set after adding elements:\", my_set)\n"
      ],
      "metadata": {
        "id": "aszsreGkVEpp",
        "colab": {
          "base_uri": "https://localhost:8080/"
        },
        "outputId": "2f2de139-9f48-41e9-c766-adacba7006fd"
      },
      "execution_count": null,
      "outputs": [
        {
          "output_type": "stream",
          "name": "stdout",
          "text": [
            "Set after adding elements: {10, 20, 30}\n"
          ]
        }
      ]
    },
    {
      "cell_type": "code",
      "source": [
        "# Creating a set with initial values\n",
        "my_set = {10, 20, 30, 40}\n",
        "\n",
        "# Removing an element\n",
        "my_set.remove(20)  # Removes 20 from the set\n",
        "\n",
        "# Removing an element using discard (no error if the element is not found)\n",
        "my_set.discard(10)  # No error even if 50 is not in the set\n",
        "\n",
        "print(\"Set after removing elements:\", my_set)\n"
      ],
      "metadata": {
        "id": "4azKV8JsVIx5",
        "colab": {
          "base_uri": "https://localhost:8080/"
        },
        "outputId": "90208b6d-6455-4002-9313-fcbf80da07f0"
      },
      "execution_count": null,
      "outputs": [
        {
          "output_type": "stream",
          "name": "stdout",
          "text": [
            "Set after removing elements: {40, 30}\n"
          ]
        }
      ]
    },
    {
      "cell_type": "code",
      "source": [
        "# Creating a set\n",
        "my_set = {5, 10, 15, 20}\n",
        "\n",
        "# Checking if an element is in the set\n",
        "print(\"Is 10 in the set?\", 10 in my_set)\n",
        "print(\"Is 25 in the set?\", 25 in my_set)\n"
      ],
      "metadata": {
        "id": "gdoJNKYSVOUc",
        "colab": {
          "base_uri": "https://localhost:8080/"
        },
        "outputId": "e2aa484b-e828-4e73-a254-e1e5e66c5814"
      },
      "execution_count": null,
      "outputs": [
        {
          "output_type": "stream",
          "name": "stdout",
          "text": [
            "Is 10 in the set? True\n",
            "Is 25 in the set? False\n"
          ]
        }
      ]
    },
    {
      "cell_type": "code",
      "source": [
        "# Creating two sets\n",
        "set1 = {1, 2, 3}\n",
        "set2 = {3, 4, 5}\n",
        "\n",
        "# Union of two sets\n",
        "union_set = set1.union(set2)\n",
        "print(\"Union of set1 and set2:\", union_set)\n"
      ],
      "metadata": {
        "id": "RGRsEGs3Vvd_",
        "colab": {
          "base_uri": "https://localhost:8080/"
        },
        "outputId": "28b89b92-0934-4136-9b88-9b517935a5ff"
      },
      "execution_count": null,
      "outputs": [
        {
          "output_type": "stream",
          "name": "stdout",
          "text": [
            "Union of set1 and set2: {1, 2, 3, 4, 5}\n"
          ]
        }
      ]
    },
    {
      "cell_type": "code",
      "source": [
        "# Creating two sets\n",
        "set1 = {1, 2, 3}\n",
        "set2 = {2, 3, 4}\n",
        "\n",
        "# Intersection of two sets\n",
        "intersection_set = set1.intersection(set2)\n",
        "print(\"Intersection of set1 and set2:\", intersection_set)\n"
      ],
      "metadata": {
        "id": "_JMoBirkV3aK",
        "colab": {
          "base_uri": "https://localhost:8080/"
        },
        "outputId": "dd27dd93-befe-4347-8497-24bf919819ba"
      },
      "execution_count": null,
      "outputs": [
        {
          "output_type": "stream",
          "name": "stdout",
          "text": [
            "Intersection of set1 and set2: {2, 3}\n"
          ]
        }
      ]
    },
    {
      "cell_type": "code",
      "source": [
        "# Creating two sets\n",
        "set1 = {1, 2, 3}\n",
        "set2 = {2, 3, 4}\n",
        "\n",
        "# Difference between two sets (elements in set1 but not in set2)\n",
        "difference_set = set1.difference(set2)\n",
        "print(\"Difference of set1 and set2:\", difference_set)\n"
      ],
      "metadata": {
        "id": "J5AiZXinWGhy",
        "colab": {
          "base_uri": "https://localhost:8080/"
        },
        "outputId": "84dd0a9a-46f2-4388-abe5-2cb02857624b"
      },
      "execution_count": null,
      "outputs": [
        {
          "output_type": "stream",
          "name": "stdout",
          "text": [
            "Difference of set1 and set2: {1}\n"
          ]
        }
      ]
    },
    {
      "cell_type": "code",
      "source": [
        "# Creating a set\n",
        "my_set = {1, 2, 3, 4, 5}\n",
        "\n",
        "# Finding the length of the set\n",
        "length = len(my_set)\n",
        "print(\"Length of the set:\", length)\n"
      ],
      "metadata": {
        "id": "Bq1GAxQ9WLHq",
        "colab": {
          "base_uri": "https://localhost:8080/"
        },
        "outputId": "708480ce-a504-4f78-8e20-d83f58715c2e"
      },
      "execution_count": null,
      "outputs": [
        {
          "output_type": "stream",
          "name": "stdout",
          "text": [
            "Length of the set: 5\n"
          ]
        }
      ]
    },
    {
      "cell_type": "code",
      "source": [
        "set1 = {1, 2, 3, 4}\n",
        "set2 = {3, 4, 5, 6}\n",
        "\n",
        "symmetric_diff = set1.symmetric_difference(set2)\n",
        "print(\"Symmetric difference of sets:\", symmetric_diff)\n"
      ],
      "metadata": {
        "colab": {
          "base_uri": "https://localhost:8080/"
        },
        "id": "qG2Svs-ipvyb",
        "outputId": "2312e9eb-231f-4a57-e4b4-71c0c8914ee3"
      },
      "execution_count": null,
      "outputs": [
        {
          "output_type": "stream",
          "name": "stdout",
          "text": [
            "Symmetric difference of sets: {1, 2, 5, 6}\n"
          ]
        }
      ]
    },
    {
      "cell_type": "code",
      "source": [
        "set1 = {1, 2, 3, 4}\n",
        "set2 = {2, 3, 5, 6}\n",
        "set3 = {3, 4, 6, 7}\n",
        "\n",
        "common_elements = set1.intersection(set2, set3)\n",
        "print(\"Common elements:\", common_elements)\n"
      ],
      "metadata": {
        "id": "g7gBJYKmqALx",
        "colab": {
          "base_uri": "https://localhost:8080/"
        },
        "outputId": "d104393f-2c6b-4ee3-900c-cf5534ba931d"
      },
      "execution_count": null,
      "outputs": [
        {
          "output_type": "stream",
          "name": "stdout",
          "text": [
            "Common elements: {3}\n"
          ]
        }
      ]
    },
    {
      "cell_type": "code",
      "source": [
        "my_set = {1, 2, 3}\n",
        "\n",
        "# Add an element\n",
        "my_set.add(4)\n",
        "print(\"After adding 4:\", my_set)\n",
        "\n",
        "# Remove an element\n",
        "my_set.remove(2)\n",
        "print(\"After removing 2:\", my_set)\n"
      ],
      "metadata": {
        "id": "3Iry6gwiqJMS",
        "colab": {
          "base_uri": "https://localhost:8080/"
        },
        "outputId": "430682a9-5c2e-4b6d-c082-9ec04865046c"
      },
      "execution_count": null,
      "outputs": [
        {
          "output_type": "stream",
          "name": "stdout",
          "text": [
            "After adding 4: {1, 2, 3, 4}\n",
            "After removing 2: {1, 3, 4}\n"
          ]
        }
      ]
    },
    {
      "cell_type": "code",
      "source": [
        "my_set = {3, 1, 4, 2}\n",
        "\n",
        "my_list = list(my_set)\n",
        "my_list.sort()\n",
        "print(\"Sorted list:\", my_list)\n"
      ],
      "metadata": {
        "colab": {
          "base_uri": "https://localhost:8080/"
        },
        "id": "XsSHRZqeqTm2",
        "outputId": "79c5d30b-2c45-4338-ef6b-d50272abae36"
      },
      "execution_count": null,
      "outputs": [
        {
          "output_type": "stream",
          "name": "stdout",
          "text": [
            "Sorted list: [1, 2, 3, 4]\n"
          ]
        }
      ]
    },
    {
      "cell_type": "code",
      "source": [
        "i = 1\n",
        "\n",
        "while i <= 5:\n",
        "    print(i)\n",
        "    i += 1  # Increment `i` to avoid infinite loop i=i+1\n"
      ],
      "metadata": {
        "id": "WD119VD5tvKw",
        "colab": {
          "base_uri": "https://localhost:8080/"
        },
        "outputId": "86c6e3f9-6516-4313-86f0-b3128d5088d8"
      },
      "execution_count": null,
      "outputs": [
        {
          "output_type": "stream",
          "name": "stdout",
          "text": [
            "1\n",
            "2\n",
            "3\n",
            "4\n",
            "5\n"
          ]
        }
      ]
    },
    {
      "cell_type": "code",
      "source": [
        "i = 1\n",
        "\n",
        "while True:\n",
        "    print(i)\n",
        "    i += 1\n",
        "    if i > 5:  # Terminate loop when `i` exceeds 5\n",
        "        break\n"
      ],
      "metadata": {
        "id": "mevJEjRswvKb",
        "colab": {
          "base_uri": "https://localhost:8080/"
        },
        "outputId": "467157bd-85d9-4ac8-f0f8-91c3dd9bb01d"
      },
      "execution_count": null,
      "outputs": [
        {
          "output_type": "stream",
          "name": "stdout",
          "text": [
            "1\n",
            "2\n",
            "3\n",
            "4\n",
            "5\n"
          ]
        }
      ]
    },
    {
      "cell_type": "code",
      "source": [
        "#print 1 to 10\n",
        "i = 1\n",
        "while i <= 10:\n",
        "    print(i)\n",
        "    i += 1\n"
      ],
      "metadata": {
        "id": "AsclZbKHxK-K",
        "colab": {
          "base_uri": "https://localhost:8080/"
        },
        "outputId": "f7deb6c0-928b-49d7-f1f1-d4749624f6f3"
      },
      "execution_count": null,
      "outputs": [
        {
          "output_type": "stream",
          "name": "stdout",
          "text": [
            "1\n",
            "2\n",
            "3\n",
            "4\n",
            "5\n",
            "6\n",
            "7\n",
            "8\n",
            "9\n",
            "10\n"
          ]
        }
      ]
    },
    {
      "cell_type": "code",
      "source": [
        "#to find n natural number\n",
        "n =int(input(\"enter the number\"))\n",
        "sum = 0\n",
        "i = 1\n",
        "\n",
        "while i <= n:\n",
        "    sum += i\n",
        "    i += 1\n",
        "\n",
        "print(f\"Sum of first {n} natural numbers is {sum}\")\n"
      ],
      "metadata": {
        "colab": {
          "base_uri": "https://localhost:8080/"
        },
        "id": "xe7et6I1xnf-",
        "outputId": "159e2d8e-1ccf-4a88-84c4-8c63f770c49e"
      },
      "execution_count": null,
      "outputs": [
        {
          "output_type": "stream",
          "name": "stdout",
          "text": [
            "enter the number5\n",
            "Sum of first 5 natural numbers is 15\n"
          ]
        }
      ]
    },
    {
      "cell_type": "code",
      "source": [
        "# to print multiplication table\n",
        "num = int(input(\"enter the number to find multiplication table\"))\n",
        "i = 1\n",
        "\n",
        "while i <= 10:\n",
        "    print(f\"{num} x {i} = {num * i}\")\n",
        "    i += 1\n"
      ],
      "metadata": {
        "colab": {
          "base_uri": "https://localhost:8080/"
        },
        "id": "SmQHzyrvx29-",
        "outputId": "461e0762-3f18-4e0b-dcc4-812d379eacef"
      },
      "execution_count": null,
      "outputs": [
        {
          "output_type": "stream",
          "name": "stdout",
          "text": [
            "enter the number to find multiplication table5\n",
            "5 x 1 = 5\n",
            "5 x 2 = 10\n",
            "5 x 3 = 15\n",
            "5 x 4 = 20\n",
            "5 x 5 = 25\n",
            "5 x 6 = 30\n",
            "5 x 7 = 35\n",
            "5 x 8 = 40\n",
            "5 x 9 = 45\n",
            "5 x 10 = 50\n"
          ]
        }
      ]
    },
    {
      "cell_type": "code",
      "source": [
        "#reverse a number\n",
        "num = 12345  # You can change this number 54321\n",
        "reversed_num = 0\n",
        "\n",
        "while num > 0:\n",
        "    remainder = num % 10\n",
        "    reversed_num = reversed_num * 10 + remainder\n",
        "    num = num // 10\n",
        "\n",
        "print(\"Reversed Number:\", reversed_num)\n"
      ],
      "metadata": {
        "id": "kIX93GQcyOHF",
        "colab": {
          "base_uri": "https://localhost:8080/"
        },
        "outputId": "0e6d57c7-d964-45fd-8fe1-1defcc08f11b"
      },
      "execution_count": null,
      "outputs": [
        {
          "output_type": "stream",
          "name": "stdout",
          "text": [
            "Reversed Number: 54321\n"
          ]
        }
      ]
    },
    {
      "cell_type": "code",
      "source": [
        "#palindrome or not\n",
        "num = 121\n",
        "original_num = num\n",
        "reversed_num = 0\n",
        "\n",
        "while num > 0:\n",
        "    remainder = num % 10\n",
        "    reversed_num = reversed_num * 10 + remainder\n",
        "    num = num // 10\n",
        "\n",
        "if original_num == reversed_num:\n",
        "    print(f\"{original_num} is a palindrome.\")\n",
        "else:\n",
        "    print(f\"{original_num} is not a palindrome.\")\n"
      ],
      "metadata": {
        "id": "Vf55vtYhyVlV"
      },
      "execution_count": null,
      "outputs": []
    },
    {
      "cell_type": "code",
      "source": [
        "count=1\n",
        "while count<=5:\n",
        "     print(count)\n",
        "     count+=1\n",
        "     if count==3:\n",
        "         break\n",
        "else:\n",
        "     print(\"in else block \")"
      ],
      "metadata": {
        "colab": {
          "base_uri": "https://localhost:8080/"
        },
        "id": "_w8oBKh_ytYL",
        "outputId": "8882ee13-d76e-4e59-9a17-ea9ff6f20d87"
      },
      "execution_count": null,
      "outputs": [
        {
          "output_type": "stream",
          "name": "stdout",
          "text": [
            "1\n",
            "2\n"
          ]
        }
      ]
    },
    {
      "cell_type": "code",
      "source": [
        "count =1\n",
        "while count<=5:\n",
        "     print(count)\n",
        "     count+=1\n",
        "else:\n",
        "   print(\"in else block\")"
      ],
      "metadata": {
        "colab": {
          "base_uri": "https://localhost:8080/"
        },
        "id": "sMpanIW_zenq",
        "outputId": "76d6ef51-ba64-4c94-c95a-71eabd74f6b4"
      },
      "execution_count": null,
      "outputs": [
        {
          "output_type": "stream",
          "name": "stdout",
          "text": [
            "1\n",
            "2\n",
            "3\n",
            "4\n",
            "5\n",
            "in else block\n"
          ]
        }
      ]
    },
    {
      "cell_type": "code",
      "source": [
        "#factorial of a number\n",
        "n = int(input(\"Enter a number: \"))\n",
        "factorial = 1\n",
        "i = 1\n",
        "while i <= n:\n",
        "    factorial *= i\n",
        "    i += 1\n",
        "print(\"Factorial:\", factorial)\n",
        "print(f\"factorial of {n} = {factorial}!\")\n"
      ],
      "metadata": {
        "colab": {
          "base_uri": "https://localhost:8080/"
        },
        "id": "pAEYbPBu1WuZ",
        "outputId": "8fd2ae18-5bdd-45d2-8609-60dcbe8efa52"
      },
      "execution_count": null,
      "outputs": [
        {
          "output_type": "stream",
          "name": "stdout",
          "text": [
            "Enter a number: 5\n",
            "Factorial: 120\n",
            "factorial of 5 = 120!\n"
          ]
        }
      ]
    },
    {
      "cell_type": "code",
      "source": [
        "#guess the number\n",
        "number = 7\n",
        "guess = int(input(\"Guess the number: \"))\n",
        "while guess != number:\n",
        "    guess = int(input(\"Try again: \"))\n",
        "print(\"You guessed it!\")\n"
      ],
      "metadata": {
        "colab": {
          "base_uri": "https://localhost:8080/"
        },
        "id": "7Q5ik9ue1wAz",
        "outputId": "d3225969-e654-4f44-fee9-3b206ddf71b6"
      },
      "execution_count": null,
      "outputs": [
        {
          "output_type": "stream",
          "name": "stdout",
          "text": [
            "Guess the number: 8\n",
            "Try again: 4\n",
            "Try again: 2\n",
            "Try again: 6\n",
            "Try again: 1\n",
            "Try again: 0\n",
            "Try again: 3\n",
            "Try again: 7\n",
            "You guessed it!\n"
          ]
        }
      ]
    },
    {
      "cell_type": "code",
      "source": [
        "#sum of digits\n",
        "n = int(input(\"Enter a number: \"))\n",
        "sum_digits = 0\n",
        "while n > 0:\n",
        "    sum_digits += n % 10\n",
        "    n = n // 10\n",
        "print(\"Sum of digits:\", sum_digits)\n",
        "\n"
      ],
      "metadata": {
        "id": "0ehVMkU52PKC"
      },
      "execution_count": null,
      "outputs": []
    },
    {
      "cell_type": "code",
      "source": [
        "#fibnoacci series\n",
        "n = int(input(\"Enter the number of terms: \"))\n",
        "a, b = 0, 1\n",
        "count = 0\n",
        "while count < n:\n",
        "    print(a, end=\" \")\n",
        "    a, b = b, a + b\n",
        "    count += 1\n"
      ],
      "metadata": {
        "id": "d9rYHxt42Vs7"
      },
      "execution_count": null,
      "outputs": []
    },
    {
      "cell_type": "code",
      "source": [
        "#armstrong number\n"
      ],
      "metadata": {
        "id": "9g8wHfXzSc_c"
      },
      "execution_count": null,
      "outputs": []
    },
    {
      "cell_type": "code",
      "source": [],
      "metadata": {
        "id": "2fBBpM0Skr4q"
      },
      "execution_count": null,
      "outputs": []
    }
  ],
  "metadata": {
    "colab": {
      "toc_visible": true,
      "provenance": []
    },
    "kernelspec": {
      "display_name": "Python 3",
      "name": "python3"
    },
    "language_info": {
      "name": "python"
    }
  },
  "nbformat": 4,
  "nbformat_minor": 0
}